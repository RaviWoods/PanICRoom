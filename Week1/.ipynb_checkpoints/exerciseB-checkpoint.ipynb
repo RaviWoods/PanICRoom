{
 "cells": [
  {
   "cell_type": "markdown",
   "metadata": {},
   "source": [
    "# Computational Intelligence Course\n",
    "## Exercise 2: Regression\n",
    "\n",
    "### Basic description\n",
    "\n",
    "FiveSixEight bar at Imperial College London launched a new app to assure the school that students going to the bar were ending up safely at home after attending the bar. The app tracks how many pints (or alcoholic drinks) each student has, and then asks the students in the morning whether they ended up safely in their own home. Students at Imperial are extremely honest, especially when they are hung over, so assume that all information from the app is valid.\n",
    "\n",
    "### Task\n",
    "Read the basic description and the questions in the document of this tutorial and then use the following notebook to try to answer to the 4 questions.\n",
    "\n",
    "### Source code\n",
    "\n",
    "Initially, import all necessary Python libraries."
   ]
  },
  {
   "cell_type": "code",
   "execution_count": 2,
   "metadata": {},
   "outputs": [],
   "source": [
    "import numpy as np\n",
    "import random\n",
    "import math\n",
    "import matplotlib.pyplot as plt"
   ]
  },
  {
   "cell_type": "markdown",
   "metadata": {},
   "source": [
    "Then, define the function that generates a list of random data points and saves it to your computer. We do not have real report from actual students so we'll use this function instead to generate data for 500 imaginary students."
   ]
  },
  {
   "cell_type": "code",
   "execution_count": 1,
   "metadata": {},
   "outputs": [
    {
     "ename": "SyntaxError",
     "evalue": "Missing parentheses in call to 'print'. Did you mean print(int data[i,0:1])? (<ipython-input-1-39eed7a2ba60>, line 17)",
     "output_type": "error",
     "traceback": [
      "\u001b[0;36m  File \u001b[0;32m\"<ipython-input-1-39eed7a2ba60>\"\u001b[0;36m, line \u001b[0;32m17\u001b[0m\n\u001b[0;31m    print data[i,0:1]\u001b[0m\n\u001b[0m             ^\u001b[0m\n\u001b[0;31mSyntaxError\u001b[0m\u001b[0;31m:\u001b[0m Missing parentheses in call to 'print'. Did you mean print(int data[i,0:1])?\n"
     ]
    }
   ],
   "source": [
    "def generate_data():\n",
    "    data = np.zeros((500, 3))\n",
    "    for i in range(len(data)):\n",
    "        data[i, 0] = i\n",
    "        data[i, 1] = random.randint(0, 24) / 2\n",
    "        test = np.random.rand() - np.random.rand() / 5 - data[i, 1] ** 2 / 200\n",
    "        if test > 0:\n",
    "            data[i, 2] = 1\n",
    "\n",
    "    np.save(\"data_regression_ex1.npy\", data)\n",
    "\n",
    "    return data\n",
    "\n",
    "generate_data()\n",
    "\n",
    "for d in data:\n",
    "    print (data[i,0:1]\n",
    "    if d[2] == 1:\n",
    "        print(str(int(d[0]))+\") With\",d[1],\"beers, this person made it home safely!\")\n",
    "    else:\n",
    "        print(str(int(d[0]))+\") With\",d[1],\"beers, this person didn't make it home..\")"
   ]
  },
  {
   "cell_type": "markdown",
   "metadata": {},
   "source": [
    "Define the formula of logistic regression, the method we'll be using in this example."
   ]
  },
  {
   "cell_type": "code",
   "execution_count": 4,
   "metadata": {},
   "outputs": [],
   "source": [
    "def logistic_eqn(x1, B0, B1):\n",
    "    p = math.exp(B0 + B1 * x1) / (1 + math.exp(B0 + B1 * x1))\n",
    "    return p\n",
    "\n",
    "\n",
    "def compute_pred(features, theta):\n",
    "    p_calc = np.zeros(len(data))\n",
    "    for i in range(len(data)):\n",
    "        p_calc[i] = logistic_eqn(features[i, 1], theta[0], theta[1])\n",
    "\n",
    "    return p_calc"
   ]
  },
  {
   "cell_type": "markdown",
   "metadata": {},
   "source": [
    "Define the function that loads this list of data points and implements regression, i.e. finds the best line that can fit this data."
   ]
  },
  {
   "cell_type": "code",
   "execution_count": 5,
   "metadata": {},
   "outputs": [],
   "source": [
    "def regression(data, theta):\n",
    "\n",
    "    cost = np.zeros(num_iters)\n",
    "    B0 = np.zeros(num_iters)\n",
    "    B1 = np.zeros(num_iters)\n",
    "    x1 = data[:, 1]\n",
    "    target = data[:, 2]\n",
    "    features = np.transpose(np.vstack([np.ones(len(x1)), x1]))\n",
    "\n",
    "    for i in range(num_iters):\n",
    "        B0[i] = theta[0]\n",
    "        B1[i] = theta[1]\n",
    "\n",
    "        predictions = compute_pred(features, theta)\n",
    "\n",
    "        output_error_signal = target - predictions\n",
    "        gradient = np.dot(np.transpose(features), output_error_signal)\n",
    "\n",
    "        theta += learning_rate * gradient\n",
    "\n",
    "        cost[i] = np.sum(output_error_signal ** 2) / (2 * len(data))\n",
    "\n",
    "    return cost, B0, B1\n",
    "\n"
   ]
  },
  {
   "cell_type": "markdown",
   "metadata": {},
   "source": [
    "### Train the algorithm \n",
    "\n",
    "Hint: Try changing the values of the three parameters (num_inters, theta and learning_rate) to see how the model is affected."
   ]
  },
  {
   "cell_type": "code",
   "execution_count": null,
   "metadata": {},
   "outputs": [],
   "source": [
    "num_iters = 500                      # Number of iterations #\n",
    "theta = [0, 0]                       # Theta: the parameter of the regression  #\n",
    "learning_rate = 0.00001              # Learning rate: How much each new data point will affect our optimization algorithm #\n",
    "\n",
    "# If we have already generated and saved data, uncomment the next line\n",
    "#data = np.load(\"data_regression_ex1.npy\")\n",
    "cost, B0, B1 = regression(data, theta)\n"
   ]
  },
  {
   "cell_type": "markdown",
   "metadata": {},
   "source": [
    "### Test our algorithm\n",
    "\n",
    "By changing the variable num_beers, you will get different responses!"
   ]
  },
  {
   "cell_type": "code",
   "execution_count": 28,
   "metadata": {},
   "outputs": [
    {
     "name": "stdout",
     "output_type": "stream",
     "text": [
      "If you have 1 beer(s), there is a 57.36 percent chance you will make it home\n"
     ]
    }
   ],
   "source": [
    "num_beers = 1                       # The number of beers\n",
    "\n",
    "p = logistic_eqn(num_beers, B0[len(B0) - 1], B1[len(B1) - 1])\n",
    "p = p * 100\n",
    "\n",
    "print(\"If you have\", num_beers, \"beer(s), there is a\", round(p,2), \"percent chance you will make it home\")"
   ]
  }
 ],
 "metadata": {
  "kernelspec": {
   "display_name": "Python 3",
   "language": "python",
   "name": "python3"
  },
  "language_info": {
   "codemirror_mode": {
    "name": "ipython",
    "version": 3
   },
   "file_extension": ".py",
   "mimetype": "text/x-python",
   "name": "python",
   "nbconvert_exporter": "python",
   "pygments_lexer": "ipython3",
   "version": "3.6.4"
  }
 },
 "nbformat": 4,
 "nbformat_minor": 2
}
